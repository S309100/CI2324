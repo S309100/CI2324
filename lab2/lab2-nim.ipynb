{
 "cells": [
  {
   "cell_type": "markdown",
   "metadata": {
    "pycharm": {
     "name": "#%% md\n"
    }
   },
   "source": [
    "Copyright **`(c)`** 2022 Giovanni Squillero `<squillero@polito.it>`  \n",
    "[`https://github.com/squillero/computational-intelligence`](https://github.com/squillero/computational-intelligence)  \n",
    "Free for personal or classroom use; see [`LICENSE.md`](https://github.com/squillero/computational-intelligence/blob/master/LICENSE.md) for details.  \n"
   ]
  },
  {
   "cell_type": "markdown",
   "metadata": {
    "pycharm": {
     "name": "#%%\n"
    }
   },
   "source": [
    "# Lab 3: ES\n",
    "\n",
    "## Task\n",
    "\n",
    "Write agents able to play [*Nim*](https://en.wikipedia.org/wiki/Nim), with an arbitrary number of rows and an upper bound $k$ on the number of objects that can be removed in a turn (a.k.a., *subtraction game*).\n",
    "\n",
    "The goal of the game is to **avoid** taking the last object.\n",
    "\n",
    "* Task2.1: An agent using fixed rules based on *nim-sum* (i.e., an *expert system*)\n",
    "* Task2.2: An agent using evolved rules using ES\n",
    "\n",
    "## Instructions\n",
    "\n",
    "* Create the directory `lab2` inside your personal course repository for the course \n",
    "* Put a `README.md` and your solution (all the files, code and auxiliary data if needed)\n",
    "\n",
    "## Notes\n",
    "\n",
    "* Working in group is not only allowed, but recommended (see: [Ubuntu](https://en.wikipedia.org/wiki/Ubuntu_philosophy) and [Cooperative Learning](https://files.eric.ed.gov/fulltext/EJ1096789.pdf)). Collaborations must be explicitly declared in the `README.md`.\n",
    "* [Yanking](https://www.emacswiki.org/emacs/KillingAndYanking) from the internet is allowed, but sources must be explicitly declared in the `README.md`.\n",
    "\n"
   ]
  },
  {
   "cell_type": "code",
   "execution_count": 5,
   "metadata": {},
   "outputs": [],
   "source": [
    "import logging\n",
    "from pprint import pprint, pformat\n",
    "from collections import namedtuple\n",
    "import random\n",
    "from copy import deepcopy\n"
   ]
  },
  {
   "cell_type": "markdown",
   "metadata": {},
   "source": [
    "## The *Nim* and *Nimply* classes"
   ]
  },
  {
   "cell_type": "code",
   "execution_count": 6,
   "metadata": {},
   "outputs": [],
   "source": [
    "Nimply = namedtuple(\"Nimply\", \"row, num_objects\")\n"
   ]
  },
  {
   "cell_type": "code",
   "execution_count": 7,
   "metadata": {},
   "outputs": [],
   "source": [
    "class Nim:\n",
    "    def __init__(self, num_rows: int, k: int = None) -> None:\n",
    "        self._rows = [i * 2 + 1 for i in range(num_rows)]\n",
    "        self._k = k\n",
    "\n",
    "    def __bool__(self):\n",
    "        return sum(self._rows) > 0\n",
    "\n",
    "    def __str__(self):\n",
    "        return \"<\" + \" \".join(str(_) for _ in self._rows) + \">\"\n",
    "\n",
    "    @property\n",
    "    def rows(self) -> tuple:\n",
    "        return tuple(self._rows)\n",
    "\n",
    "    def nimming(self, ply: Nimply) -> None:\n",
    "        row, num_objects = ply\n",
    "        assert self._rows[row] >= num_objects\n",
    "        assert self._k is None or num_objects <= self._k\n",
    "        self._rows[row] -= num_objects\n"
   ]
  },
  {
   "cell_type": "markdown",
   "metadata": {},
   "source": [
    "## Sample (and silly) startegies "
   ]
  },
  {
   "cell_type": "code",
   "execution_count": 8,
   "metadata": {},
   "outputs": [],
   "source": [
    "def pure_random(state: Nim) -> Nimply:\n",
    "    \"\"\"A completely random move\"\"\"\n",
    "    row = random.choice([r for r, c in enumerate(state.rows) if c > 0])\n",
    "    num_objects = random.randint(1, state.rows[row])\n",
    "    return Nimply(row, num_objects)\n"
   ]
  },
  {
   "cell_type": "code",
   "execution_count": 9,
   "metadata": {},
   "outputs": [],
   "source": [
    "def gabriele(state: Nim) -> Nimply:\n",
    "    \"\"\"Pick always the maximum possible number of the lowest row\"\"\"\n",
    "    possible_moves = [(r, o) for r, c in enumerate(state.rows) for o in range(1, c + 1)]\n",
    "    return Nimply(*max(possible_moves, key=lambda m: (-m[0], m[1])))\n"
   ]
  },
  {
   "cell_type": "code",
   "execution_count": 10,
   "metadata": {},
   "outputs": [],
   "source": [
    "def adaptive(state: Nim) -> Nimply:\n",
    "    \"\"\"A strategy that can adapt its parameters\"\"\"\n",
    "    genome = {\"love_small\": 0.5}\n"
   ]
  },
  {
   "cell_type": "code",
   "execution_count": 11,
   "metadata": {},
   "outputs": [],
   "source": [
    "import numpy as np\n",
    "\n",
    "\n",
    "def nim_sum(state: Nim) -> int:\n",
    "    tmp = np.array([tuple(int(x) for x in f\"{c:032b}\") for c in state.rows])\n",
    "    xor = tmp.sum(axis=0) % 2\n",
    "    return int(\"\".join(str(_) for _ in xor), base=2)\n",
    "\n",
    "\n",
    "def analize(raw: Nim) -> dict:\n",
    "    cooked = dict()\n",
    "    cooked[\"possible_moves\"] = dict()\n",
    "    for ply in (Nimply(r, o) for r, c in enumerate(raw.rows) for o in range(1, c + 1)):\n",
    "        tmp = deepcopy(raw)\n",
    "        tmp.nimming(ply)\n",
    "        cooked[\"possible_moves\"][ply] = nim_sum(tmp)\n",
    "    return cooked\n",
    "\n",
    "\n",
    "def optimal(state: Nim) -> Nimply:\n",
    "    analysis = analize(state)\n",
    "    logging.debug(f\"analysis:\\n{pformat(analysis)}\")\n",
    "    spicy_moves = [ply for ply, ns in analysis[\"possible_moves\"].items() if ns != 0]\n",
    "    if not spicy_moves:\n",
    "        spicy_moves = list(analysis[\"possible_moves\"].keys())\n",
    "    ply = random.choice(spicy_moves)\n",
    "    return ply\n"
   ]
  },
  {
   "cell_type": "markdown",
   "metadata": {},
   "source": [
    "## Our Startegies"
   ]
  },
  {
   "cell_type": "markdown",
   "metadata": {},
   "source": [
    "## Task 2.1: Rule based nim sum strategy"
   ]
  },
  {
   "cell_type": "code",
   "execution_count": 12,
   "metadata": {},
   "outputs": [],
   "source": [
    "def rule_based_nim_sum(state: Nim) -> Nimply:\n",
    "    \"\"\"A rule-based strategy using nim-sum to play Nim.\"\"\"\n",
    "    # Calculate the nim-sum for the current state\n",
    "    current_nim_sum = nim_sum(state)\n",
    "\n",
    "    # If the nim-sum is already zero, we cannot force a win, make a random move\n",
    "    if current_nim_sum == 0:\n",
    "        return pure_random(state)\n",
    "\n",
    "    # Find a move that changes the current nim-sum to zero\n",
    "    for r, num_objects in enumerate(state.rows):\n",
    "        for remove in range(1, min(state._k, num_objects) + 1 if state._k else num_objects + 1):\n",
    "            # Create a copy of the state and perform the move\n",
    "            tmp_state = deepcopy(state)\n",
    "            tmp_state.nimming(Nimply(r, remove))\n",
    "            # Calculate the nim-sum after the move\n",
    "            if nim_sum(tmp_state) == 0:\n",
    "                return Nimply(r, remove)\n",
    "    # If no such move is found, fall back to a random move\n",
    "    return pure_random(state)"
   ]
  },
  {
   "cell_type": "markdown",
   "metadata": {},
   "source": [
    "## Task 2.2: evovle strategy"
   ]
  },
  {
   "cell_type": "code",
   "execution_count": 13,
   "metadata": {},
   "outputs": [],
   "source": [
    "def fitness(state: Nim, strategy_func, opponent_func, num_trials=100):\n",
    "    \"\"\"Evaluate the performance of a strategy function against a given opponent.\"\"\"\n",
    "    wins = 0\n",
    "    for _ in range(num_trials):\n",
    "        temp_state = deepcopy(state)\n",
    "        player = 0  # Start with the strategy we are evaluating\n",
    "        while temp_state:\n",
    "            if player == 0:\n",
    "                ply = strategy_func(temp_state)\n",
    "            else:\n",
    "                ply = opponent_func(temp_state)\n",
    "            temp_state.nimming(ply)\n",
    "            if not temp_state:\n",
    "                if player == 0:  # If the strategy we are evaluating wins\n",
    "                    wins += 1\n",
    "                break\n",
    "            player = 1 - player\n",
    "    return wins\n",
    "\n",
    "\n",
    "def gaussian_mutation(strategy, mu=0, sigma=1):\n",
    "    \"\"\"Mutate the strategy parameters using Gaussian noise.\"\"\"\n",
    "    mutated_strategy = deepcopy(strategy)\n",
    "    for key in mutated_strategy:\n",
    "        mutated_strategy[key] += np.random.normal(mu, sigma)\n",
    "    return mutated_strategy\n",
    "\n",
    "\n",
    "def select_top_strategies(population, fitnesses, top_n):\n",
    "    \"\"\"Select the top N strategies based on their fitness scores.\"\"\"\n",
    "    indices = np.argsort(fitnesses)[-top_n:]\n",
    "    return [population[i] for i in indices]\n",
    "\n",
    "\n",
    "def evolve_strategy(state: Nim, population_size=10, generations=10, top_n=5, mutation_rate=0.1):\n",
    "    \"\"\"An evolutionary strategy to play Nim.\"\"\"\n",
    "    # Initialize a population of strategies with random parameters\n",
    "    population = [{'param': random.uniform(-1, 1)} for _ in range(population_size)]\n",
    "\n",
    "    for generation in range(generations):\n",
    "        # Evaluate the fitness for each strategy in the population\n",
    "        fitnesses = [fitness(state, lambda s, p=individual['param']: evolved_strategy(s, p), rule_based_nim_sum) for individual in population]\n",
    "\n",
    "        # Select the top N strategies\n",
    "        top_strategies = select_top_strategies(population, fitnesses, top_n)\n",
    "\n",
    "        # Create a new population by mutating the top strategies\n",
    "        new_population = [gaussian_mutation(strategy, sigma=mutation_rate) for strategy in top_strategies for _ in range(population_size // top_n)]\n",
    "\n",
    "        # Replace the old population with the new population\n",
    "        population = new_population + top_strategies[:population_size % top_n]\n",
    "\n",
    "    # Return the best strategy from the final population\n",
    "    best_fitness_index = np.argmax(fitnesses)\n",
    "    return population[best_fitness_index]\n",
    "\n",
    "def evolved_strategy(state: Nim, param):\n",
    "    \"\"\"A strategy function using an evolved parameter to influence move choice.\"\"\"\n",
    "    # Convert the parameter to a probability bias\n",
    "    bias = (param + 1) / 2  # Now it's between 0 and 1\n",
    "\n",
    "    current_nim_sum = nim_sum(state)\n",
    "\n",
    "    if current_nim_sum == 0:\n",
    "        # If the nim-sum is zero, make a move that tries to create a non-zero nim-sum\n",
    "        for r, num_objects in enumerate(state.rows):\n",
    "            for remove in range(1, min(state._k, num_objects) + 1 if state._k else num_objects + 1):\n",
    "                tmp_state = deepcopy(state)\n",
    "                tmp_state.nimming(Nimply(r, remove))\n",
    "                if nim_sum(tmp_state) != 0:\n",
    "                    return Nimply(r, remove)\n",
    "        return pure_random(state)  # Fallback to random if no such move is found\n",
    "    else:\n",
    "        # If the nim-sum is non-zero, find a move that changes it to zero\n",
    "        for r, num_objects in enumerate(state.rows):\n",
    "            for remove in range(1, min(state._k, num_objects) + 1 if state._k else num_objects + 1):\n",
    "                tmp_state = deepcopy(state)\n",
    "                tmp_state.nimming(Nimply(r, remove))\n",
    "                if nim_sum(tmp_state) == 0:\n",
    "                    return Nimply(r, remove)\n",
    "        return pure_random(state)  # Fallback to random if no such move is found\n",
    "\n",
    "best_strategy_params = evolve_strategy(Nim(4, k=3), population_size=1, generations=10, top_n=5, mutation_rate=0.1)\n",
    "evolved_strategy_function = lambda state: evolved_strategy(state, best_strategy_params['param'])"
   ]
  },
  {
   "cell_type": "markdown",
   "metadata": {},
   "source": [
    "## Oversimplified match"
   ]
  },
  {
   "cell_type": "code",
   "execution_count": 21,
   "metadata": {},
   "outputs": [
    {
     "name": "stderr",
     "output_type": "stream",
     "text": [
      "INFO:root:init : <1 3 5 7>\n",
      "INFO:root:Player 1 will start the game.\n",
      "INFO:root:Initial state: <1 3 5 7>\n",
      "INFO:root:ply: player 1 plays Nimply(row=0, num_objects=1)\n",
      "INFO:root:status: <0 3 5 7>\n",
      "INFO:root:ply: player 0 plays Nimply(row=1, num_objects=3)\n",
      "INFO:root:status: <0 0 5 7>\n",
      "INFO:root:ply: player 1 plays Nimply(row=3, num_objects=2)\n",
      "INFO:root:status: <0 0 5 5>\n",
      "INFO:root:ply: player 0 plays Nimply(row=3, num_objects=2)\n",
      "INFO:root:status: <0 0 5 3>\n",
      "INFO:root:ply: player 1 plays Nimply(row=2, num_objects=2)\n",
      "INFO:root:status: <0 0 3 3>\n",
      "INFO:root:ply: player 0 plays Nimply(row=3, num_objects=1)\n",
      "INFO:root:status: <0 0 3 2>\n",
      "INFO:root:ply: player 1 plays Nimply(row=2, num_objects=1)\n",
      "INFO:root:status: <0 0 2 2>\n",
      "INFO:root:ply: player 0 plays Nimply(row=3, num_objects=2)\n",
      "INFO:root:status: <0 0 2 0>\n",
      "INFO:root:ply: player 1 plays Nimply(row=2, num_objects=2)\n",
      "INFO:root:status: <0 0 0 0>\n",
      "INFO:root: Player 1 won!\n"
     ]
    }
   ],
   "source": [
    "logging.getLogger().setLevel(logging.INFO)\n",
    "\n",
    "strategy = (optimal, evolved_strategy_function)\n",
    "\n",
    "nim = Nim(4)\n",
    "logging.info(f\"init : {nim}\")\n",
    "player = random.randint(0,1)\n",
    "logging.info(f\"Player {player} will start the game.\")\n",
    "logging.info(f\"Initial state: {nim}\")\n",
    "while nim:\n",
    "    ply = strategy[player](nim)\n",
    "    logging.info(f\"ply: player {player} plays {ply}\")\n",
    "    nim.nimming(ply)\n",
    "    if not nim:  # Check if the game is over before switching players\n",
    "        logging.info(f\"status: {nim}\")\n",
    "        logging.info(f\" Player {player} won!\")\n",
    "        break\n",
    "    logging.info(f\"status: {nim}\")\n",
    "    player = 1 - player\n"
   ]
  },
  {
   "cell_type": "code",
   "execution_count": null,
   "metadata": {},
   "outputs": [],
   "source": []
  },
  {
   "cell_type": "code",
   "execution_count": null,
   "metadata": {},
   "outputs": [],
   "source": []
  },
  {
   "cell_type": "code",
   "execution_count": null,
   "metadata": {},
   "outputs": [],
   "source": []
  }
 ],
 "metadata": {
  "kernelspec": {
   "display_name": "Python 3 (ipykernel)",
   "language": "python",
   "name": "python3"
  },
  "language_info": {
   "codemirror_mode": {
    "name": "ipython",
    "version": 3
   },
   "file_extension": ".py",
   "mimetype": "text/x-python",
   "name": "python",
   "nbconvert_exporter": "python",
   "pygments_lexer": "ipython3",
   "version": "3.11.5"
  },
  "vscode": {
   "interpreter": {
    "hash": "10197e8e2f2aa67e2c349105091c77f4cd384fce4877865f002d9ec653f96bc0"
   }
  }
 },
 "nbformat": 4,
 "nbformat_minor": 2
}
